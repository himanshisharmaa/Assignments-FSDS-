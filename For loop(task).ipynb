{
 "cells": [
  {
   "cell_type": "code",
   "execution_count": 1,
   "id": "1b0bccf1",
   "metadata": {},
   "outputs": [
    {
     "name": "stdout",
     "output_type": "stream",
     "text": [
      "ineuron \n",
      "ineuron ineuron \n",
      "ineuron ineuron ineuron \n",
      "ineuron ineuron ineuron ineuron \n"
     ]
    }
   ],
   "source": [
    "n=4\n",
    "for i in range (n):\n",
    "    for j in range (0,i+1):\n",
    "        print(\"ineuron\", end=\" \")\n",
    "    print()"
   ]
  },
  {
   "cell_type": "code",
   "execution_count": 2,
   "id": "160d61b1",
   "metadata": {},
   "outputs": [
    {
     "name": "stdout",
     "output_type": "stream",
     "text": [
      "           ineuron   \n",
      "       ineuron     ineuron   \n",
      "   ineuron     ineuron     ineuron   \n",
      "        ineuron     ineuron   \n",
      "           ineuron   \n"
     ]
    }
   ],
   "source": [
    "n=3\n",
    "k=n\n",
    "for i in range(n):\n",
    "    k=k-1\n",
    "    print('    '*k, end=' ')\n",
    "    for j in range(i+1):\n",
    "        print('  ineuron  ', end= ' ')\n",
    "    print(\"\")\n",
    "n=1\n",
    "k=n\n",
    "for i in range(n,-1,-1):\n",
    "    k=k+1\n",
    "    print('   '*k,end='')\n",
    "    for j in range(i+1):\n",
    "        print(\"  ineuron  \",end= ' ')\n",
    "    print(\"\")"
   ]
  },
  {
   "cell_type": "code",
   "execution_count": 3,
   "id": "c29475c1",
   "metadata": {},
   "outputs": [],
   "source": [
    "l = [[1,2,3,4] , (2,3,4,5,6) , (3,4,5,6,7) , set([23,4,5,45,4,4,5,45,45,4,5]) , {'k1' :\"sudh\" , \"k2\" : \"ineuron\",\"k3\": \"kumar\" , 3:6 , 7:8} , [\"ineuron\" ,\"data science \"]]\n"
   ]
  },
  {
   "cell_type": "markdown",
   "id": "741f15d5",
   "metadata": {},
   "source": [
    "3.Try to extract all the list entity "
   ]
  },
  {
   "cell_type": "code",
   "execution_count": 5,
   "id": "ef2a92da",
   "metadata": {},
   "outputs": [
    {
     "name": "stdout",
     "output_type": "stream",
     "text": [
      "[1, 2, 3, 4]\n",
      "['ineuron', 'data science ']\n"
     ]
    }
   ],
   "source": [
    "for i in l:\n",
    "    if type(i)==list:\n",
    "        print(i)"
   ]
  },
  {
   "cell_type": "markdown",
   "id": "2836b16c",
   "metadata": {},
   "source": [
    "4. Try to extract all the dict enteties"
   ]
  },
  {
   "cell_type": "code",
   "execution_count": 6,
   "id": "d5db2d22",
   "metadata": {},
   "outputs": [
    {
     "name": "stdout",
     "output_type": "stream",
     "text": [
      "{'k1': 'sudh', 'k2': 'ineuron', 'k3': 'kumar', 3: 6, 7: 8}\n"
     ]
    }
   ],
   "source": [
    "for i in l:\n",
    "    if type(i)==dict:\n",
    "        print(i)"
   ]
  },
  {
   "cell_type": "markdown",
   "id": "bcefa465",
   "metadata": {},
   "source": [
    "5. Try to extract all the tuples entities"
   ]
  },
  {
   "cell_type": "code",
   "execution_count": 8,
   "id": "9dd46c89",
   "metadata": {},
   "outputs": [
    {
     "name": "stdout",
     "output_type": "stream",
     "text": [
      "(2, 3, 4, 5, 6)\n",
      "(3, 4, 5, 6, 7)\n"
     ]
    }
   ],
   "source": [
    "for i in l:\n",
    "    if type(i)==tuple:\n",
    "        print(i)"
   ]
  },
  {
   "cell_type": "markdown",
   "id": "aa1a9714",
   "metadata": {},
   "source": [
    " 6.Try to extract all the numerical data it may b a part of dict key and values "
   ]
  },
  {
   "cell_type": "code",
   "execution_count": 20,
   "id": "12099825",
   "metadata": {},
   "outputs": [
    {
     "name": "stdout",
     "output_type": "stream",
     "text": [
      "1\n",
      "2\n",
      "3\n",
      "4\n",
      "2\n",
      "3\n",
      "4\n",
      "5\n",
      "6\n",
      "3\n",
      "4\n",
      "5\n",
      "6\n",
      "7\n",
      "45\n",
      "4\n",
      "5\n",
      "23\n",
      "3\n",
      "6\n",
      "7\n",
      "8\n"
     ]
    }
   ],
   "source": [
    "for i in l:\n",
    "    if type(i)==list or type(i)== tuple :\n",
    "        for j in i:\n",
    "            if type(j)==int:\n",
    "                print(j)\n",
    "    if type(i)==set:\n",
    "        for j in i:\n",
    "            if type(j)==int:\n",
    "                print(j)\n",
    "    if type(i)==dict:\n",
    "        for k,v in i.items():\n",
    "            if type(k)==int or type(v)==int:\n",
    "                print(k)\n",
    "                print(v)\n",
    "        \n",
    "        "
   ]
  },
  {
   "cell_type": "markdown",
   "id": "c748188d",
   "metadata": {},
   "source": [
    "7.Try to give summation of all the numeric data "
   ]
  },
  {
   "cell_type": "code",
   "execution_count": 25,
   "id": "5ac4fa18",
   "metadata": {},
   "outputs": [
    {
     "name": "stdout",
     "output_type": "stream",
     "text": [
      "Sum of all numeric data:  156\n"
     ]
    }
   ],
   "source": [
    "li=[]\n",
    "sum=0\n",
    "for i in l:\n",
    "    if type(i)==list or type(i)== tuple or type(i)==set:\n",
    "        for j in i:\n",
    "            if type(j)==int:\n",
    "                li.append(j)\n",
    "    if type(i)==dict:\n",
    "        for k,v in i.items():\n",
    "            if type(k)==int or type(v)==int:\n",
    "                li.append(k)\n",
    "                li.append(v)\n",
    "for i in li :\n",
    "    sum=sum+i\n",
    "print(\"Sum of all numeric data: \",sum)"
   ]
  },
  {
   "cell_type": "markdown",
   "id": "9522598e",
   "metadata": {},
   "source": [
    "8. Try to filter out all the odd values out all numeric data which is a part of a list "
   ]
  },
  {
   "cell_type": "code",
   "execution_count": 31,
   "id": "3cd05d25",
   "metadata": {},
   "outputs": [
    {
     "name": "stdout",
     "output_type": "stream",
     "text": [
      "1\n",
      "3\n",
      "3\n",
      "5\n",
      "3\n",
      "5\n",
      "7\n",
      "45\n",
      "5\n",
      "23\n",
      "3\n",
      "7\n"
     ]
    }
   ],
   "source": [
    "for i in l:\n",
    "    if type(i)==list or type(i)== tuple or type(i)==set:\n",
    "        for j in i:\n",
    "            if type(j)==int and j%2==1:\n",
    "                print(j)\n",
    "    if type(i)==dict:\n",
    "        for k,v in i.items():\n",
    "            if type(k)==int and k%2==1:\n",
    "                print(k)\n",
    "            elif type(v)==int and v%2==1:\n",
    "                print(v)\n",
    "        \n",
    "        "
   ]
  },
  {
   "cell_type": "markdown",
   "id": "32255785",
   "metadata": {},
   "source": [
    "9.Try to extract \"ineruon\" out of this data"
   ]
  },
  {
   "cell_type": "code",
   "execution_count": 58,
   "id": "38a05c9c",
   "metadata": {},
   "outputs": [],
   "source": [
    "l = [[1,2,3,4] , (2,3,4,5,6) , (3,4,5,6,7) , set([23,4,5,45,4,4,5,45,45,4,5]) , {'k1' :\"sudh\" , \"k2\" : \"ineuron\",\"k3\":\n",
    "            \"kumar\" , 3:6 , 7:8} , [\"ineuron\" , \"data science \"]]"
   ]
  },
  {
   "cell_type": "code",
   "execution_count": 61,
   "id": "bd46b04c",
   "metadata": {},
   "outputs": [
    {
     "name": "stdout",
     "output_type": "stream",
     "text": [
      "ineuron\n",
      "ineuron\n"
     ]
    }
   ],
   "source": [
    "for i in l:\n",
    "    if type(i)==list:\n",
    "        for j in i:\n",
    "            if j=='ineuron':\n",
    "                print(j)\n",
    "for i in l:\n",
    "    if type(i)==dict:\n",
    "        for k,v in i.items():\n",
    "            if k=='ineuron':\n",
    "                print(k)\n",
    "            elif v=='ineuron':\n",
    "                print(v)"
   ]
  },
  {
   "cell_type": "markdown",
   "id": "37452aa6",
   "metadata": {},
   "source": [
    "10.Try to find out a number of occurances of all the data "
   ]
  },
  {
   "cell_type": "code",
   "execution_count": 80,
   "id": "5247147c",
   "metadata": {},
   "outputs": [
    {
     "name": "stdout",
     "output_type": "stream",
     "text": [
      "[1, 2, 3, 4, 2, 3, 4, 5, 6, 3, 4, 5, 6, 7, 45, 4, 5, 23, 'k1', 'sudh', 'k2', 'ineuron', 'k3', 'kumar', 3, 6, 7, 8, 'ineuron', 'data science ']\n",
      "kumar  :  1\n",
      "1  :  1\n",
      "2  :  2\n",
      "3  :  4\n",
      "4  :  4\n",
      "5  :  3\n",
      "6  :  3\n",
      "7  :  2\n",
      "k1  :  1\n",
      "8  :  1\n",
      "k2  :  1\n",
      "45  :  1\n",
      "sudh  :  1\n",
      "k3  :  1\n",
      "23  :  1\n",
      "ineuron  :  2\n",
      "data science   :  1\n"
     ]
    }
   ],
   "source": [
    "li=[]\n",
    "for i in l:\n",
    "    if type(i)==list or type(i)== tuple :\n",
    "        for j in i:\n",
    "            li.append(j)   \n",
    "    if type(i)==set:\n",
    "        for j in i:\n",
    "            li.append(j) \n",
    "    if type(i)==dict:\n",
    "        for k,v in i.items():\n",
    "            li.append(k)\n",
    "            li.append(v)\n",
    "print(li)\n",
    "for i in set(li):\n",
    "    print(i,\" : \",li.count(i))\n",
    "                \n",
    "        \n",
    "        "
   ]
  },
  {
   "cell_type": "markdown",
   "id": "f6c8cd37",
   "metadata": {},
   "source": [
    "11.Try to find out number of keys in dict element"
   ]
  },
  {
   "cell_type": "code",
   "execution_count": 98,
   "id": "82227ab4",
   "metadata": {},
   "outputs": [
    {
     "name": "stdout",
     "output_type": "stream",
     "text": [
      "No. of keys in dict :  5\n"
     ]
    }
   ],
   "source": [
    "count=0\n",
    "for i in l:\n",
    "    if type(i)==dict:\n",
    "        for k,v in i.items():\n",
    "            count+=1\n",
    "print(\"No. of keys in dict : \",count)"
   ]
  },
  {
   "cell_type": "markdown",
   "id": "226fd9e1",
   "metadata": {},
   "source": [
    "12.Try to filter out all the string data "
   ]
  },
  {
   "cell_type": "code",
   "execution_count": 101,
   "id": "5332ae89",
   "metadata": {},
   "outputs": [
    {
     "data": {
      "text/plain": [
       "[[1, 2, 3, 4],\n",
       " (2, 3, 4, 5, 6),\n",
       " (3, 4, 5, 6, 7),\n",
       " {4, 5, 23, 45},\n",
       " {'k1': 'sudh', 'k2': 'ineuron', 'k3': 'kumar', 3: 6, 7: 8},\n",
       " ['ineuron', 'data science ']]"
      ]
     },
     "execution_count": 101,
     "metadata": {},
     "output_type": "execute_result"
    }
   ],
   "source": [
    "l"
   ]
  },
  {
   "cell_type": "code",
   "execution_count": 105,
   "id": "4ae9f822",
   "metadata": {},
   "outputs": [
    {
     "name": "stdout",
     "output_type": "stream",
     "text": [
      "k1\n",
      "sudh\n",
      "k2\n",
      "ineuron\n",
      "k3\n",
      "kumar\n",
      "ineuron\n",
      "data science \n"
     ]
    }
   ],
   "source": [
    "for i in l:\n",
    "    if type(i)==list :\n",
    "        for j in i:\n",
    "            if type(j)==str:\n",
    "                print(j)\n",
    "    if type(i)==dict:\n",
    "        for k,v in i.items():\n",
    "            if type(k)==str or type(v)==str:\n",
    "                print(k)\n",
    "                print(v)"
   ]
  },
  {
   "cell_type": "markdown",
   "id": "98055341",
   "metadata": {},
   "source": [
    "13.Try to Find  out alphanum in data"
   ]
  },
  {
   "cell_type": "code",
   "execution_count": 115,
   "id": "4ce9a8ae",
   "metadata": {},
   "outputs": [
    {
     "name": "stdout",
     "output_type": "stream",
     "text": [
      "k1\n",
      "k2\n",
      "k3\n"
     ]
    }
   ],
   "source": [
    "for i in l:\n",
    "    if type(i)==dict:\n",
    "        for k,v in i.items():\n",
    "            if type(k)==str and k.isalnum():\n",
    "                print(k)\n",
    "               "
   ]
  },
  {
   "cell_type": "markdown",
   "id": "2d135c70",
   "metadata": {},
   "source": [
    "14.Try to find out multiplication of all numeric value in  the individual collection inside dataset "
   ]
  },
  {
   "cell_type": "code",
   "execution_count": 126,
   "id": "00284dcb",
   "metadata": {},
   "outputs": [
    {
     "name": "stdout",
     "output_type": "stream",
     "text": [
      "Multiplication of collection1=  24\n",
      "Multiplication of collection2=  720\n",
      "Multiplication of collection2=  2520\n",
      "Multiplication of collection3=  20700\n"
     ]
    }
   ],
   "source": [
    "for i in l:\n",
    "    m=1\n",
    "    if type(i)==list :\n",
    "        for j in i:\n",
    "            if type(j)==int:\n",
    "                m=m*j\n",
    "        print(\"Multiplication of collection1= \",m)\n",
    "    if type(i)== tuple :\n",
    "        for j in i:\n",
    "            if type(j)==int:\n",
    "                 m=m*j\n",
    "        print(\"Multiplication of collection2= \",m)\n",
    "    if type(i)==set:\n",
    "        for j in i:\n",
    "            if type(j)==int:\n",
    "                 m=m*j\n",
    "        print(\"Multiplication of collection3= \",m)\n",
    "        break\n",
    "        "
   ]
  },
  {
   "cell_type": "markdown",
   "id": "b999d062",
   "metadata": {},
   "source": [
    "15.Try to unwrap all the collection inside collection and create a flat list "
   ]
  },
  {
   "cell_type": "code",
   "execution_count": 127,
   "id": "8e11960b",
   "metadata": {},
   "outputs": [
    {
     "name": "stdout",
     "output_type": "stream",
     "text": [
      "[1, 2, 3, 4, 2, 3, 4, 5, 6, 3, 4, 5, 6, 7, 45, 4, 5, 23, 'k1', 'sudh', 'k2', 'ineuron', 'k3', 'kumar', 3, 6, 7, 8, 'ineuron', 'data science ']\n"
     ]
    }
   ],
   "source": [
    "li=[]\n",
    "for i in l:\n",
    "    if type(i)==list or type(i)== tuple :\n",
    "        for j in i:\n",
    "            li.append(j)   \n",
    "    if type(i)==set:\n",
    "        for j in i:\n",
    "            li.append(j) \n",
    "    if type(i)==dict:\n",
    "        for k,v in i.items():\n",
    "            li.append(k)\n",
    "            li.append(v)\n",
    "print(li)\n",
    "\n",
    "                "
   ]
  },
  {
   "cell_type": "code",
   "execution_count": null,
   "id": "69a8f789",
   "metadata": {},
   "outputs": [],
   "source": []
  }
 ],
 "metadata": {
  "kernelspec": {
   "display_name": "Python 3 (ipykernel)",
   "language": "python",
   "name": "python3"
  },
  "language_info": {
   "codemirror_mode": {
    "name": "ipython",
    "version": 3
   },
   "file_extension": ".py",
   "mimetype": "text/x-python",
   "name": "python",
   "nbconvert_exporter": "python",
   "pygments_lexer": "ipython3",
   "version": "3.9.7"
  }
 },
 "nbformat": 4,
 "nbformat_minor": 5
}
